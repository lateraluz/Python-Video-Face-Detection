{
 "cells": [
  {
   "cell_type": "code",
   "execution_count": 12,
   "metadata": {},
   "outputs": [],
   "source": [
    "# https://en.wikipedia.org/wiki/Cascading_classifiers\n",
    "# https://en.wikipedia.org/wiki/Haar-like_feature\n",
    "# https://en.wikipedia.org/wiki/Viola%E2%80%93Jones_object_detection_framework\n",
    "\n",
    "# Computer Vision OpenCV \n",
    "import cv2 \n",
    "import sys\n",
    "\n",
    "# https://github.com/opencv/opencv/tree/master/data/haarcascades\n",
    "#cascate_file_path = 'haarcascade_eye_tree_eyeglasses.xml'\n",
    "cascate_file_path = 'haarcascade_frontalface_default.xml'\n",
    "faceCascade = cv2.CascadeClassifier(cascate_file_path)\n",
    "\n",
    "# Choose Camera connected to PC, in my case is CERO cause external WebCam has better resolution\n",
    "video_capture = cv2.VideoCapture(0)\n",
    "\n",
    "# Infinity loop\n",
    "while True:\n",
    "    # Capture frames\n",
    "    check, frame = video_capture.read()\n",
    "    \n",
    "    #print(check)\n",
    "\n",
    "    # Method 'cvtColor' is used to convert an image from one color space to another. \n",
    "    gray = cv2.cvtColor(frame, cv2.COLOR_BGR2GRAY)\n",
    "\n",
    "    faces = faceCascade.detectMultiScale(\n",
    "        gray,  # image gray \n",
    "        scaleFactor=1.1, # specifying how much the image size is reduced at each image scale.\n",
    "        minNeighbors=5, # specifying how many neighbors each candidate rectangle should have to retain it.\n",
    "        minSize=(30, 30), # Minimum possible object size. Objects smaller than that are ignored\n",
    "        # Fixed with new version, replace flags=cv2.CV_HAAR_SCALE_IMAGE\n",
    "        flags=cv2.CASCADE_SCALE_IMAGE\n",
    "    )\n",
    "\n",
    "    # Draw a rectangle around the faces detected\n",
    "    for (x, y, w, h) in faces:        \n",
    "        cv2.rectangle(frame, (x, y), (x+w, y+h), (0, 255, 0), 2)\n",
    "\n",
    "    # Display Windows with video\n",
    "    cv2.imshow('Windows Face Detection', frame)\n",
    "\n",
    "    # Input q to quit!\n",
    "    if cv2.waitKey(1) & 0xFF == ord('q'):\n",
    "        break\n",
    "\n",
    "# Close window and Release resources \n",
    "video_capture.release()\n",
    "cv2.destroyAllWindows()\n"
   ]
  }
 ],
 "metadata": {
  "kernelspec": {
   "display_name": "Python 3",
   "language": "python",
   "name": "python3"
  },
  "language_info": {
   "codemirror_mode": {
    "name": "ipython",
    "version": 3
   },
   "file_extension": ".py",
   "mimetype": "text/x-python",
   "name": "python",
   "nbconvert_exporter": "python",
   "pygments_lexer": "ipython3",
   "version": "3.8.5"
  }
 },
 "nbformat": 4,
 "nbformat_minor": 4
}
